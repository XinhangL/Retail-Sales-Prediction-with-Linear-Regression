{
 "cells": [
  {
   "cell_type": "markdown",
   "metadata": {},
   "source": [
    "# 🛍️ Retail Sales Prediction\n",
    "This notebook builds a linear regression model to predict total net sales using retail transaction data. Steps include missing value imputation, data encoding, feature engineering, and model evaluation.\n"
   ]
  },
  {
   "cell_type": "markdown",
   "metadata": {},
   "source": [
    "## Data Loading & Cleaning\n"
   ]
  },
  {
   "cell_type": "code",
   "execution_count": 4,
   "metadata": {},
   "outputs": [
    {
     "data": {
      "text/plain": [
       "Product Type       8\n",
       "Net Quantity       0\n",
       "Gross Sales        0\n",
       "Discounts          0\n",
       "Returns            0\n",
       "Total Net Sales    0\n",
       "dtype: int64"
      ]
     },
     "execution_count": 4,
     "metadata": {},
     "output_type": "execute_result"
    }
   ],
   "source": [
    "import pandas as pd\n",
    "dt = pd.read_csv(\"dataset.csv\")\n",
    "\n",
    "dt.isna().sum()# find the missing value"
   ]
  },
  {
   "cell_type": "code",
   "execution_count": 5,
   "metadata": {},
   "outputs": [
    {
     "data": {
      "text/plain": [
       "<AxesSubplot:>"
      ]
     },
     "execution_count": 5,
     "metadata": {},
     "output_type": "execute_result"
    },
    {
     "data": {
      "image/png": "[encoded data removed]",
      "text/plain": [
       "<Figure size 432x288 with 2 Axes>"
      ]
     },
     "metadata": {
      "needs_background": "light"
     },
     "output_type": "display_data"
    }
   ],
   "source": [
    "import seaborn as sns\n",
    "sns.heatmap(dt.isnull())"
   ]
  },
  {
   "cell_type": "code",
   "execution_count": 6,
   "metadata": {},
   "outputs": [],
   "source": [
    "dt['Product Type']=dt['Product Type'].str.replace(\"Art & Sculpture\",\"Art&Sculpture\")\n",
    "dt['Product Type']=dt['Product Type'].str.replace(\"Home Decor\",\"Home_Decor\")\n",
    "dt['Product Type']=dt['Product Type'].str.replace(\"Fair Trade Gifts\",\"Fair_Trade_Gifts\")\n",
    "dt['Product Type']=dt['Product Type'].str.replace(\"Gift Baskets\",\"Gifts_Baskets\")\n",
    "dt['Product Type']=dt['Product Type'].str.replace(\"Recycled Art\",\"Recycled_Art\")\n",
    "dt['Product Type']=dt['Product Type'].str.replace(\"Skin Care\",\"Skin_Care\")\n",
    "dt['Product Type']=dt['Product Type'].str.replace(\"One-of-a-Kind\",\"One_of_a_Kind\")"
   ]
  },
  {
   "cell_type": "code",
   "execution_count": 7,
   "metadata": {},
   "outputs": [],
   "source": [
    "##fill the missing value in Product type by mode\n",
    "dt[\"Product Type\"].value_counts() ##Basket has the highest counts value\n",
    "dt['Product Type'].fillna(dt['Product Type'].mode()[0], inplace = True)"
   ]
  },
  {
   "cell_type": "markdown",
   "metadata": {},
   "source": [
    "## Linear Regression"
   ]
  },
  {
   "cell_type": "code",
   "execution_count": 8,
   "metadata": {},
   "outputs": [],
   "source": [
    "#create dummy variables\n",
    "dt1=pd.get_dummies(dt,drop_first = True)\n",
    "\n",
    "#drop column gross sales because it is not independent variable\n",
    "dt1=dt1.drop(['Gross Sales'],axis=1)\n",
    "\n",
    "x=dt1.drop(\"Total Net Sales\",axis=1)\n",
    "y=dt1[\"Total Net Sales\"]"
   ]
  },
  {
   "cell_type": "code",
   "execution_count": 6,
   "metadata": {},
   "outputs": [
    {
     "data": {
      "text/plain": [
       "LinearRegression()"
      ]
     },
     "execution_count": 6,
     "metadata": {},
     "output_type": "execute_result"
    }
   ],
   "source": [
    "##train test split\n",
    "from sklearn.model_selection import train_test_split\n",
    "x_train,x_test,y_train,y_test=train_test_split(x,y,test_size=0.3,random_state=101)\n",
    "\n",
    "##build linear regression\n",
    "from sklearn.linear_model import LinearRegression\n",
    "lm=LinearRegression() #initialize the model\n",
    "lm.fit(x_train,y_train) #fitting the model (or training it)"
   ]
  },
  {
   "cell_type": "code",
   "execution_count": 7,
   "metadata": {},
   "outputs": [
    {
     "name": "stdout",
     "output_type": "stream",
     "text": [
      "R Square is  0.7853787632744407\n",
      "rmse is  285.9178081272122\n"
     ]
    }
   ],
   "source": [
    "#evaluate model on the testing data with r2 and mrse\n",
    "y_pred=lm.predict(x_test)\n",
    "from sklearn.metrics import r2_score,mean_squared_error, f1_score\n",
    "print(\"R Square is \",r2_score(y_test,y_pred))\n",
    "mse=mean_squared_error(y_test,y_pred)\n",
    "rmse=mse**0.5\n",
    "print(\"rmse is \",rmse)"
   ]
  },
  {
   "cell_type": "code",
   "execution_count": 8,
   "metadata": {},
   "outputs": [
    {
     "data": {
      "text/plain": [
       "LinearRegression()"
      ]
     },
     "execution_count": 8,
     "metadata": {},
     "output_type": "execute_result"
    }
   ],
   "source": [
    "##scale the variable\n",
    "from sklearn.preprocessing import MinMaxScaler\n",
    "scaler=MinMaxScaler()\n",
    "scaler.fit(x_train)\n",
    "\n",
    "x_train_scaled=scaler.transform(x_train)\n",
    "x_test_scaled= scaler.transform(x_test)\n",
    "\n",
    "lm.fit(x_train_scaled,y_train) #fitting the model (or training it)"
   ]
  },
  {
   "cell_type": "code",
   "execution_count": 9,
   "metadata": {},
   "outputs": [
    {
     "name": "stdout",
     "output_type": "stream",
     "text": [
      "R Square is  0.7853787632744405\n",
      "Rmse is 285.91780812721225\n"
     ]
    }
   ],
   "source": [
    "#evaluate model on the testing data with f1, r2, and mrse\n",
    "y_pred_scaled=lm.predict(x_test_scaled)\n",
    "from sklearn.metrics import r2_score,mean_squared_error, f1_score\n",
    "mse_scaled=mean_squared_error(y_test,y_pred_scaled)\n",
    "rmse_scaled=mse_scaled**0.5\n",
    "print(\"R Square is \",r2_score(y_test,y_pred_scaled))\n",
    "print(\"Rmse is\",rmse_scaled)"
   ]
  },
  {
   "cell_type": "markdown",
   "metadata": {},
   "source": [
    "## PCAs"
   ]
  },
  {
   "cell_type": "code",
   "execution_count": 10,
   "metadata": {},
   "outputs": [],
   "source": [
    "##pcas\n",
    "##step1: normalize the data\n",
    "from sklearn.preprocessing import StandardScaler\n",
    "scaler=StandardScaler()\n",
    "scaler.fit(x_train)\n",
    "x_train_scaled=scaler.transform(x_train)\n",
    "x_test_scaled = scaler.transform(x_test)\n",
    "\n",
    "##step2: do pca\n",
    "from sklearn.decomposition import PCA\n",
    "pca=PCA(n_components=2)##get 2 new variables\n",
    "pca.fit(x_train_scaled)\n",
    "x_train_scaled_pca=pca.transform(x_train_scaled)\n",
    "x_test_scaled_pca=pca.transform(x_test_scaled)\n",
    "\n",
    "\n",
    "lm.fit(x_train_scaled_pca,y_train)\n",
    "y_pred_scaled_pca=lm.predict(x_test_scaled_pca)"
   ]
  },
  {
   "cell_type": "code",
   "execution_count": 11,
   "metadata": {},
   "outputs": [
    {
     "name": "stdout",
     "output_type": "stream",
     "text": [
      "R Square is  0.7817949070245005\n",
      "rmse is  288.2951264033866\n"
     ]
    }
   ],
   "source": [
    "#evaluate model on the testing data with f1, r2, and mrse\n",
    "\n",
    "print(\"R Square is \",r2_score(y_test,y_pred_scaled_pca))\n",
    "mse=mean_squared_error(y_test,y_pred_scaled_pca)\n",
    "rmse=mse**0.5\n",
    "print(\"rmse is \",rmse)"
   ]
  },
  {
   "cell_type": "markdown",
   "metadata": {},
   "source": [
    "## Random Forest"
   ]
  },
  {
   "cell_type": "code",
   "execution_count": 12,
   "metadata": {},
   "outputs": [
    {
     "name": "stdout",
     "output_type": "stream",
     "text": [
      "[2.71672885e-01 6.55198275e-01 1.77299947e-02 1.12722222e-02\n",
      " 2.54502477e-02 7.71155083e-04 2.55049087e-07 2.48477533e-04\n",
      " 9.22114637e-04 5.05700114e-06 6.80115310e-03 3.10841786e-03\n",
      " 2.67653570e-04 3.13492319e-03 5.42592477e-04 9.76958500e-04\n",
      " 1.08020526e-03 1.83272758e-04 4.78367771e-04 1.55771645e-04]\n"
     ]
    },
    {
     "data": {
      "image/png": "[encoded data removed]",
      "text/plain": [
       "<Figure size 432x288 with 1 Axes>"
      ]
     },
     "metadata": {
      "needs_background": "light"
     },
     "output_type": "display_data"
    }
   ],
   "source": [
    "import matplotlib.pyplot as plt\n",
    "from sklearn.ensemble import RandomForestRegressor \n",
    "\n",
    "model = RandomForestRegressor ()\n",
    "model.fit(x_train_scaled,y_train)\n",
    "print(model.feature_importances_) #use inbuilt class feature_importances \n",
    "#plot graph of feature importances for better visualization\n",
    "feat_importances = pd.Series(model.feature_importances_, index=x.columns)\n",
    "feat_importances.nlargest(10).plot(kind='barh')\n",
    "plt.show()"
   ]
  },
  {
   "cell_type": "code",
   "execution_count": 13,
   "metadata": {},
   "outputs": [
    {
     "data": {
      "text/html": [
       "<div>\n",
       "<style scoped>\n",
       "    .dataframe tbody tr th:only-of-type {\n",
       "        vertical-align: middle;\n",
       "    }\n",
       "\n",
       "    .dataframe tbody tr th {\n",
       "        vertical-align: top;\n",
       "    }\n",
       "\n",
       "    .dataframe thead th {\n",
       "        text-align: right;\n",
       "    }\n",
       "</style>\n",
       "<table border=\"1\" class=\"dataframe\">\n",
       "  <thead>\n",
       "    <tr style=\"text-align: right;\">\n",
       "      <th></th>\n",
       "      <th>k</th>\n",
       "      <th>R_Square</th>\n",
       "      <th>rmse</th>\n",
       "    </tr>\n",
       "  </thead>\n",
       "  <tbody>\n",
       "    <tr>\n",
       "      <th>1</th>\n",
       "      <td>2</td>\n",
       "      <td>0.854050</td>\n",
       "      <td>230.649141</td>\n",
       "    </tr>\n",
       "    <tr>\n",
       "      <th>2</th>\n",
       "      <td>3</td>\n",
       "      <td>0.839203</td>\n",
       "      <td>242.096955</td>\n",
       "    </tr>\n",
       "    <tr>\n",
       "      <th>3</th>\n",
       "      <td>4</td>\n",
       "      <td>0.828967</td>\n",
       "      <td>249.683229</td>\n",
       "    </tr>\n",
       "    <tr>\n",
       "      <th>4</th>\n",
       "      <td>5</td>\n",
       "      <td>0.828297</td>\n",
       "      <td>250.172309</td>\n",
       "    </tr>\n",
       "    <tr>\n",
       "      <th>5</th>\n",
       "      <td>6</td>\n",
       "      <td>0.827494</td>\n",
       "      <td>250.756693</td>\n",
       "    </tr>\n",
       "    <tr>\n",
       "      <th>6</th>\n",
       "      <td>7</td>\n",
       "      <td>0.827391</td>\n",
       "      <td>250.831240</td>\n",
       "    </tr>\n",
       "    <tr>\n",
       "      <th>7</th>\n",
       "      <td>8</td>\n",
       "      <td>0.826989</td>\n",
       "      <td>251.123244</td>\n",
       "    </tr>\n",
       "    <tr>\n",
       "      <th>8</th>\n",
       "      <td>9</td>\n",
       "      <td>0.825911</td>\n",
       "      <td>251.904615</td>\n",
       "    </tr>\n",
       "    <tr>\n",
       "      <th>12</th>\n",
       "      <td>13</td>\n",
       "      <td>0.825622</td>\n",
       "      <td>252.113426</td>\n",
       "    </tr>\n",
       "    <tr>\n",
       "      <th>13</th>\n",
       "      <td>14</td>\n",
       "      <td>0.825596</td>\n",
       "      <td>252.132335</td>\n",
       "    </tr>\n",
       "    <tr>\n",
       "      <th>14</th>\n",
       "      <td>15</td>\n",
       "      <td>0.825596</td>\n",
       "      <td>252.132335</td>\n",
       "    </tr>\n",
       "    <tr>\n",
       "      <th>16</th>\n",
       "      <td>17</td>\n",
       "      <td>0.825587</td>\n",
       "      <td>252.138622</td>\n",
       "    </tr>\n",
       "    <tr>\n",
       "      <th>15</th>\n",
       "      <td>16</td>\n",
       "      <td>0.825549</td>\n",
       "      <td>252.166185</td>\n",
       "    </tr>\n",
       "    <tr>\n",
       "      <th>9</th>\n",
       "      <td>10</td>\n",
       "      <td>0.825510</td>\n",
       "      <td>252.194075</td>\n",
       "    </tr>\n",
       "    <tr>\n",
       "      <th>18</th>\n",
       "      <td>19</td>\n",
       "      <td>0.825425</td>\n",
       "      <td>252.255954</td>\n",
       "    </tr>\n",
       "    <tr>\n",
       "      <th>11</th>\n",
       "      <td>12</td>\n",
       "      <td>0.825299</td>\n",
       "      <td>252.346518</td>\n",
       "    </tr>\n",
       "    <tr>\n",
       "      <th>19</th>\n",
       "      <td>20</td>\n",
       "      <td>0.825279</td>\n",
       "      <td>252.361234</td>\n",
       "    </tr>\n",
       "    <tr>\n",
       "      <th>10</th>\n",
       "      <td>11</td>\n",
       "      <td>0.825278</td>\n",
       "      <td>252.361556</td>\n",
       "    </tr>\n",
       "    <tr>\n",
       "      <th>17</th>\n",
       "      <td>18</td>\n",
       "      <td>0.824528</td>\n",
       "      <td>252.903240</td>\n",
       "    </tr>\n",
       "    <tr>\n",
       "      <th>0</th>\n",
       "      <td>1</td>\n",
       "      <td>0.767789</td>\n",
       "      <td>290.931559</td>\n",
       "    </tr>\n",
       "  </tbody>\n",
       "</table>\n",
       "</div>"
      ],
      "text/plain": [
       "     k  R_Square        rmse\n",
       "1    2  0.854050  230.649141\n",
       "2    3  0.839203  242.096955\n",
       "3    4  0.828967  249.683229\n",
       "4    5  0.828297  250.172309\n",
       "5    6  0.827494  250.756693\n",
       "6    7  0.827391  250.831240\n",
       "7    8  0.826989  251.123244\n",
       "8    9  0.825911  251.904615\n",
       "12  13  0.825622  252.113426\n",
       "13  14  0.825596  252.132335\n",
       "14  15  0.825596  252.132335\n",
       "16  17  0.825587  252.138622\n",
       "15  16  0.825549  252.166185\n",
       "9   10  0.825510  252.194075\n",
       "18  19  0.825425  252.255954\n",
       "11  12  0.825299  252.346518\n",
       "19  20  0.825279  252.361234\n",
       "10  11  0.825278  252.361556\n",
       "17  18  0.824528  252.903240\n",
       "0    1  0.767789  290.931559"
      ]
     },
     "execution_count": 13,
     "metadata": {},
     "output_type": "execute_result"
    }
   ],
   "source": [
    "##run a loop to find the best value of k \n",
    "cols = [\"k\",\"R_Square\",\"rmse\"] \n",
    "lst=[] ##Create rows and columns to record the value of k, R_square and rmse\n",
    "from sklearn.feature_selection import SelectKBest,f_regression\n",
    "for i in range(20):\n",
    "    i=i+1\n",
    "    bestfeatures=SelectKBest(score_func=f_regression,k=i)\n",
    "    new_x=bestfeatures.fit_transform(x,y)\n",
    "    x_train,x_test,y_train,y_test=train_test_split(new_x,y,test_size=0.3,random_state=1)\n",
    "    scaler.fit(x_train)\n",
    "    x_train_scaled=scaler.transform(x_train)\n",
    "    x_test_scaled= scaler.transform(x_test)\n",
    "    lm.fit(x_train_scaled,y_train)\n",
    "    y_pred_scaled=lm.predict(x_test_scaled)\n",
    "    mse=mean_squared_error(y_test,y_pred_scaled)\n",
    "    rmse=mse**0.5\n",
    "    lst.append([i,r2_score(y_test,y_pred_scaled),rmse]) #add k, R Square and rmse to rows to form a new dataframe\n",
    "\n",
    "\n",
    "df3 = pd.DataFrame(lst, columns=cols)\n",
    "df3\n",
    "\n",
    "df3.sort_values(by=[\"R_Square\"],ascending=False)"
   ]
  },
  {
   "cell_type": "code",
   "execution_count": 14,
   "metadata": {},
   "outputs": [],
   "source": [
    "#apply SelectKBest class to extract top 2 best features\n",
    "bestfeatures = SelectKBest(score_func=f_regression, k=2)\n",
    "fit = bestfeatures.fit(x,y)\n",
    "dfscores = pd.DataFrame(fit.scores_)\n",
    "dfcolumns = pd.DataFrame(x.columns)"
   ]
  },
  {
   "cell_type": "code",
   "execution_count": 15,
   "metadata": {},
   "outputs": [
    {
     "name": "stdout",
     "output_type": "stream",
     "text": [
      "    Features        Score\n",
      "1  Discounts  4207.253499\n",
      "2    Returns  1453.775590\n"
     ]
    }
   ],
   "source": [
    "#concat two dataframes for better visualization \n",
    "featureScores = pd.concat([dfcolumns,dfscores],axis=1)\n",
    "featureScores.columns = ['Features','Score']  #naming the dataframe columns\n",
    "print(featureScores.nlargest(2,'Score'))\n"
   ]
  },
  {
   "cell_type": "markdown",
   "metadata": {},
   "source": [
    "## K-mean Clustering"
   ]
  },
  {
   "cell_type": "code",
   "execution_count": 16,
   "metadata": {},
   "outputs": [],
   "source": [
    "##minmaxscaler\n",
    "from sklearn.preprocessing import MinMaxScaler\n",
    "scaler=MinMaxScaler()"
   ]
  },
  {
   "cell_type": "code",
   "execution_count": 17,
   "metadata": {},
   "outputs": [],
   "source": [
    "#ward method\n",
    "from sklearn.preprocessing import MinMaxScaler\n",
    "scaler=MinMaxScaler()\n",
    "scaled_df=scaler.fit_transform(dt1)"
   ]
  },
  {
   "cell_type": "code",
   "execution_count": 18,
   "metadata": {},
   "outputs": [
    {
     "data": {
      "image/png": "[encoded data removed]",
      "text/plain": [
       "<Figure size 432x288 with 1 Axes>"
      ]
     },
     "metadata": {
      "needs_background": "light"
     },
     "output_type": "display_data"
    }
   ],
   "source": [
    "from scipy.cluster.hierarchy import dendrogram, linkage\n",
    "import matplotlib.pyplot as plt\n",
    "linked=linkage(scaled_df,method=\"ward\")\n",
    "dendrogram(linked)\n",
    "plt.show()"
   ]
  },
  {
   "cell_type": "code",
   "execution_count": 19,
   "metadata": {},
   "outputs": [],
   "source": [
    "##labels\n",
    "scaled_df = scaler.fit_transform(dt1) \n",
    "\n",
    "from sklearn.metrics import silhouette_score\n",
    "from sklearn.cluster import KMeans\n",
    "wcv=[]##emply list for withincluster variation\n",
    "silk_score=[]\n",
    "\n",
    "for i in range(2,21):\n",
    "    km=KMeans(n_clusters=i,random_state=0)\n",
    "    km.fit(scaled_df)\n",
    "    wcv.append(km.inertia_)\n",
    "    silk_score.append(silhouette_score(scaled_df,km.labels_))"
   ]
  },
  {
   "cell_type": "code",
   "execution_count": 20,
   "metadata": {},
   "outputs": [
    {
     "data": {
      "text/plain": [
       "Text(0, 0.5, 'within cluster variation')"
      ]
     },
     "execution_count": 20,
     "metadata": {},
     "output_type": "execute_result"
    },
    {
     "data": {
      "image/png": "[encoded data removed]",
      "text/plain": [
       "<Figure size 432x288 with 1 Axes>"
      ]
     },
     "metadata": {
      "needs_background": "light"
     },
     "output_type": "display_data"
    }
   ],
   "source": [
    "##elbow method\n",
    "import matplotlib.pyplot as plt\n",
    "plt.plot(range(2,21),wcv)\n",
    "plt.xlabel(\"no of clusters\")\n",
    "plt.ylabel(\"within cluster variation\")\n",
    "#elbow seems like 3-5"
   ]
  },
  {
   "cell_type": "code",
   "execution_count": 21,
   "metadata": {},
   "outputs": [
    {
     "data": {
      "image/png": "[encoded data removed]",
      "text/plain": [
       "<Figure size 432x288 with 1 Axes>"
      ]
     },
     "metadata": {
      "needs_background": "light"
     },
     "output_type": "display_data"
    }
   ],
   "source": [
    "##silhoutte score\n",
    "plt.plot(range(2,21),silk_score)\n",
    "plt.xlabel(\"no of clusters\")\n",
    "plt.ylabel(\"silk score\")\n",
    "plt.grid()"
   ]
  },
  {
   "cell_type": "code",
   "execution_count": 22,
   "metadata": {},
   "outputs": [],
   "source": [
    "##kmeans for 3\n",
    "km2=KMeans(n_clusters=3,random_state=0)\n",
    "km2.fit(scaled_df)\n",
    "\n",
    "km2.labels_\n",
    "dt1[\"labels\"]=km2.labels_"
   ]
  },
  {
   "cell_type": "code",
   "execution_count": 23,
   "metadata": {},
   "outputs": [],
   "source": [
    "##intercept it using pandas\n",
    "##cluster 0\n",
    "df0 = dt1.loc[dt1[\"labels\"]==0].describe()\n",
    "df0_mean=df0.loc[\"mean\",:].apply(str)\n",
    "mean_list0 = df0_mean.values.tolist()"
   ]
  },
  {
   "cell_type": "code",
   "execution_count": 24,
   "metadata": {},
   "outputs": [],
   "source": [
    "##cluster 1\n",
    "df1 = dt1.loc[dt1[\"labels\"]==1].describe()\n",
    "df1_mean=df1.loc[\"mean\",:].apply(str)\n",
    "mean_list1 = df1_mean.values.tolist()"
   ]
  },
  {
   "cell_type": "code",
   "execution_count": 25,
   "metadata": {},
   "outputs": [],
   "source": [
    "##cluster 2\n",
    "df2=dt1.loc[dt1[\"labels\"]==2].describe()\n",
    "df2_mean=df2.loc[\"mean\",:].apply(str)\n",
    "mean_list2 = df2_mean.values.tolist()"
   ]
  },
  {
   "cell_type": "markdown",
   "metadata": {},
   "source": [
    "## 🔍 Final Evaluation\n",
    "\n",
    "The model achieved an R² score of 0.85 on the Random Forest test set, indicating good predictive performance.\n"
   ]
  },
  {
   "cell_type": "code",
   "execution_count": null,
   "metadata": {},
   "outputs": [],
   "source": []
  }
 ],
 "metadata": {
  "kernelspec": {
   "display_name": "Python 3",
   "language": "python",
   "name": "python3"
  },
  "language_info": {
   "codemirror_mode": {
    "name": "ipython",
    "version": 3
   },
   "file_extension": ".py",
   "mimetype": "text/x-python",
   "name": "python",
   "nbconvert_exporter": "python",
   "pygments_lexer": "ipython3",
   "version": "3.8.8"
  },
  "toc": {
   "base_numbering": 1,
   "nav_menu": {},
   "number_sections": true,
   "sideBar": true,
   "skip_h1_title": false,
   "title_cell": "Table of Contents",
   "title_sidebar": "Contents",
   "toc_cell": false,
   "toc_position": {},
   "toc_section_display": true,
   "toc_window_display": false
  },
  "varInspector": {
   "cols": {
    "lenName": 16,
    "lenType": 16,
    "lenVar": 40
   },
   "kernels_config": {
    "python": {
     "delete_cmd_postfix": "",
     "delete_cmd_prefix": "del ",
     "library": "var_list.py",
     "varRefreshCmd": "print(var_dic_list())"
    },
    "r": {
     "delete_cmd_postfix": ") ",
     "delete_cmd_prefix": "rm(",
     "library": "var_list.r",
     "varRefreshCmd": "cat(var_dic_list()) "
    }
   },
   "types_to_exclude": [
    "module",
    "function",
    "builtin_function_or_method",
    "instance",
    "_Feature"
   ],
   "window_display": false
  }
 },
 "nbformat": 4,
 "nbformat_minor": 4
}
